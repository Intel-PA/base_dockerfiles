{
 "cells": [
  {
   "cell_type": "code",
   "execution_count": 3,
   "id": "8d659cc2-c797-482d-a890-f32f666670f5",
   "metadata": {},
   "outputs": [],
   "source": [
    "import numpy as np\n",
    "import torch"
   ]
  },
  {
   "cell_type": "code",
   "execution_count": 6,
   "id": "c3d50ac1-13a1-4e66-95a7-9261e008a4ad",
   "metadata": {},
   "outputs": [],
   "source": [
    "I_f = torch.rand(16, 256)\n",
    "T_f = torch.rand(16, 256)"
   ]
  },
  {
   "cell_type": "code",
   "execution_count": 11,
   "id": "26f79b31-00cd-485a-90ff-b5a6ebfbb979",
   "metadata": {},
   "outputs": [],
   "source": [
    "I_e = torch.nn.functional.normalize(I_f, \n",
    "                                    p=2, dim=1)\n",
    "T_e = torch.nn.functional.normalize(T_f, \n",
    "                                    p=2, dim=1)"
   ]
  },
  {
   "cell_type": "code",
   "execution_count": 27,
   "id": "11383600-c169-4677-846b-382ba66756f2",
   "metadata": {},
   "outputs": [],
   "source": [
    "def cross_entropy(predictions, targets, epsilon=1e-12):\n",
    "    \"\"\"\n",
    "    Computes cross entropy between targets (encoded as one-hot vectors)\n",
    "    and predictions. \n",
    "    Input: predictions (N, k) ndarray\n",
    "           targets (N, k) ndarray        \n",
    "    Returns: scalar\n",
    "    \"\"\"\n",
    "    predictions = np.clip(predictions, epsilon, 1. - epsilon)\n",
    "    N = predictions.shape[0]\n",
    "    ce = -np.sum(targets*np.log(predictions+1e-9))/N\n",
    "    return ce"
   ]
  },
  {
   "cell_type": "code",
   "execution_count": 31,
   "id": "c4d05215-15b6-468e-b7ca-9f4183a2e784",
   "metadata": {},
   "outputs": [
    {
     "data": {
      "text/plain": [
       "(16, 16)"
      ]
     },
     "execution_count": 31,
     "metadata": {},
     "output_type": "execute_result"
    }
   ],
   "source": [
    "logits = np.dot(I_e.numpy(), T_e.numpy().T) * np.exp(0.1)\n",
    "logits.shape"
   ]
  },
  {
   "cell_type": "code",
   "execution_count": 32,
   "id": "65dc78bb-363e-478f-9257-2881b8c0b147",
   "metadata": {},
   "outputs": [],
   "source": [
    "labels = np.arange(16)\n",
    "loss_i = cross_entropy(logits, labels)\n",
    "loss_t = cross_entropy(logits, labels)"
   ]
  },
  {
   "cell_type": "code",
   "execution_count": 34,
   "id": "50276c16-5ed0-4b21-8d33-e568d352a87d",
   "metadata": {},
   "outputs": [],
   "source": [
    "loss = (loss_i + loss_t)/2"
   ]
  },
  {
   "cell_type": "code",
   "execution_count": 35,
   "id": "dae833cc-5c92-4a6f-9c06-923b115a1647",
   "metadata": {},
   "outputs": [
    {
     "data": {
      "text/plain": [
       "22.45519549632445"
      ]
     },
     "execution_count": 35,
     "metadata": {},
     "output_type": "execute_result"
    }
   ],
   "source": [
    "loss"
   ]
  },
  {
   "cell_type": "code",
   "execution_count": null,
   "id": "e92721ce-4c2d-403a-8bdd-320a927a9386",
   "metadata": {},
   "outputs": [],
   "source": []
  }
 ],
 "metadata": {
  "kernelspec": {
   "display_name": "Python 3 (ipykernel)",
   "language": "python",
   "name": "python3"
  },
  "language_info": {
   "codemirror_mode": {
    "name": "ipython",
    "version": 3
   },
   "file_extension": ".py",
   "mimetype": "text/x-python",
   "name": "python",
   "nbconvert_exporter": "python",
   "pygments_lexer": "ipython3",
   "version": "3.7.10"
  }
 },
 "nbformat": 4,
 "nbformat_minor": 5
}
