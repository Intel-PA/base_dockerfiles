{
 "cells": [
  {
   "cell_type": "code",
   "execution_count": null,
   "id": "israeli-monday",
   "metadata": {},
   "outputs": [],
   "source": [
    "!pip3 install pandas"
   ]
  },
  {
   "cell_type": "code",
   "execution_count": 1,
   "id": "sporting-motor",
   "metadata": {},
   "outputs": [],
   "source": [
    "import pandas as pd"
   ]
  },
  {
   "cell_type": "code",
   "execution_count": 2,
   "id": "sitting-sunrise",
   "metadata": {},
   "outputs": [
    {
     "name": "stdout",
     "output_type": "stream",
     "text": [
      "(241, 1)\n",
      "(2000, 1)\n"
     ]
    }
   ],
   "source": [
    "df1 = pd.read_csv('data/countries.csv', \"|\", header=None)\n",
    "df2 = pd.read_csv('data/names-sorted.csv', header=None)[:2000]\n",
    "\n",
    "\n",
    "df1 = df1.drop([0], axis=1)\n",
    "df1.columns = [\"names\"]\n",
    "df2.columns = [\"names\"]\n",
    "\n",
    "\n",
    "print(df1.shape)\n",
    "print(df2.shape)"
   ]
  },
  {
   "cell_type": "code",
   "execution_count": 3,
   "id": "forward-marine",
   "metadata": {},
   "outputs": [],
   "source": [
    "# df1"
   ]
  },
  {
   "cell_type": "code",
   "execution_count": 4,
   "id": "legendary-phoenix",
   "metadata": {},
   "outputs": [],
   "source": [
    "# df2"
   ]
  },
  {
   "cell_type": "code",
   "execution_count": 5,
   "id": "political-session",
   "metadata": {},
   "outputs": [],
   "source": [
    "# new_dafaframe = pd.concat([df1,df2]).drop_duplicates(keep=False) #if this doesn't work, try somthing else\n",
    "# new_dafaframe"
   ]
  },
  {
   "cell_type": "code",
   "execution_count": 6,
   "id": "opposite-killer",
   "metadata": {},
   "outputs": [
    {
     "name": "stdout",
     "output_type": "stream",
     "text": [
      "Requirement already satisfied: fuzzywuzzy in /usr/local/lib/python3.6/dist-packages\n",
      "Requirement already satisfied: Levenshtein in /usr/local/lib/python3.6/dist-packages\n",
      "Requirement already satisfied: setuptools in /usr/lib/python3/dist-packages (from Levenshtein)\n"
     ]
    }
   ],
   "source": [
    "!pip3 install fuzzywuzzy\n",
    "!pip3 install Levenshtein"
   ]
  },
  {
   "cell_type": "code",
   "execution_count": 11,
   "id": "motivated-weapon",
   "metadata": {},
   "outputs": [
    {
     "name": "stdout",
     "output_type": "stream",
     "text": [
      "82\n",
      "77\n",
      "84\n",
      "95\n"
     ]
    }
   ],
   "source": [
    "from fuzzywuzzy import process\n",
    "from fuzzywuzzy import fuzz\n",
    "\n",
    "Str1 = \"of Nixon vs The United States\"\n",
    "Str2 = \"Nixon v. United States\"\n",
    "Ratio = fuzz.ratio(Str1.lower(),Str2.lower())\n",
    "Partial_Ratio = fuzz.partial_ratio(Str1.lower(),Str2.lower())\n",
    "Token_Sort_Ratio = fuzz.token_sort_ratio(Str1,Str2)\n",
    "Token_Set_Ratio = fuzz.token_set_ratio(Str1,Str2)\n",
    "print(Ratio)\n",
    "print(Partial_Ratio)\n",
    "print(Token_Sort_Ratio)\n",
    "print(Token_Set_Ratio)"
   ]
  },
  {
   "cell_type": "code",
   "execution_count": null,
   "id": "innovative-norman",
   "metadata": {},
   "outputs": [],
   "source": [
    "match_100 = pd.DataFrame(columns=[\"names\"])\n",
    "keep = pd.DataFrame(columns=[\"names\"])\n",
    "\n",
    "\n",
    "for index1, row1 in df1.iterrows():\n",
    "    for index2, row2 in df2.iterrows():\n",
    "        if fuzz.token_set_ratio(row1.values,row2.values) == 100:\n",
    "            print(\"I should delete:\", row1.values,row2.values, fuzz.token_set_ratio(row1.values,row2.values))\n",
    "            print()\n",
    "            match_100.append({\"names\":row2.values}, ignore_index=True)\n",
    "            break\n",
    "        else:\n",
    "            keep.append({\"names\":row1.values}, ignore_index=True)\n",
    "#             break\n",
    "            \n",
    "            "
   ]
  },
  {
   "cell_type": "code",
   "execution_count": null,
   "id": "identified-enterprise",
   "metadata": {},
   "outputs": [],
   "source": [
    "match_100"
   ]
  }
 ],
 "metadata": {
  "kernelspec": {
   "display_name": "Python 3",
   "language": "python",
   "name": "python3"
  },
  "language_info": {
   "codemirror_mode": {
    "name": "ipython",
    "version": 3
   },
   "file_extension": ".py",
   "mimetype": "text/x-python",
   "name": "python",
   "nbconvert_exporter": "python",
   "pygments_lexer": "ipython3",
   "version": "3.6.9"
  }
 },
 "nbformat": 4,
 "nbformat_minor": 5
}
